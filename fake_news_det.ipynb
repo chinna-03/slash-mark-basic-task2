{
  "cells": [
    {
      "cell_type": "markdown",
      "metadata": {
        "id": "view-in-github",
        "colab_type": "text"
      },
      "source": [
        "<a href=\"https://colab.research.google.com/github/chinna-03/slash-mark-basic-task2/blob/main/fake_news_det.ipynb\" target=\"_parent\"><img src=\"https://colab.research.google.com/assets/colab-badge.svg\" alt=\"Open In Colab\"/></a>"
      ]
    },
    {
      "cell_type": "code",
      "execution_count": 1,
      "metadata": {
        "id": "O2oi5EFxGld1"
      },
      "outputs": [],
      "source": [
        "import pandas as pd"
      ]
    },
    {
      "cell_type": "code",
      "source": [
        "from google.colab import drive\n",
        "drive.mount('/content/drive')"
      ],
      "metadata": {
        "id": "e_TixIE6HH8s",
        "colab": {
          "base_uri": "https://localhost:8080/"
        },
        "outputId": "09733d2b-01b5-4bcb-a9a0-7608265e4903"
      },
      "execution_count": 2,
      "outputs": [
        {
          "output_type": "stream",
          "name": "stdout",
          "text": [
            "Mounted at /content/drive\n"
          ]
        }
      ]
    },
    {
      "cell_type": "code",
      "execution_count": 3,
      "metadata": {
        "id": "Hny-UFhYGld5"
      },
      "outputs": [],
      "source": [
        "train_data = pd.read_csv('/content/drive/MyDrive/train.csv')\n",
        "test_data = pd.read_csv('/content/drive/MyDrive/test.csv')\n",
        "val_data = pd.read_csv('/content/drive/MyDrive/valid.csv')"
      ]
    },
    {
      "cell_type": "markdown",
      "source": [],
      "metadata": {
        "id": "Py6rS4b1uf6i"
      }
    },
    {
      "cell_type": "code",
      "source": [
        "\n",
        "import pandas as pd\n",
        "from sklearn.feature_extraction.text import TfidfVectorizer\n",
        "from sklearn.linear_model import LogisticRegression\n",
        "from sklearn.metrics import accuracy_score\n",
        "import pickle\n",
        "\n",
        "# Step 1: Data Preparation\n",
        "def load_data(file_path):\n",
        "    return pd.read_csv(file_path)\n",
        "\n",
        "def preprocess_data(df):\n",
        "    df = df.rename(columns={'Statement': 'text', 'Label': 'label'})\n",
        "\n",
        "    # Ensure 'label' column is converted to string type and mapped to binary\n",
        "    df['label'] = df['label'].astype(str).str.lower().map({'true': 1, 'false': 0})\n",
        "\n",
        "    # Drop rows with missing values in 'text' or 'label'\n",
        "    df = df.dropna(subset=['text', 'label'])\n",
        "\n",
        "    return df\n",
        "\n",
        "# Step 2: Feature Extraction\n",
        "def extract_features(train_df, test_df, valid_df):\n",
        "    vectorizer = TfidfVectorizer(max_features=5000, stop_words='english')\n",
        "    X_train = vectorizer.fit_transform(train_df['text'])\n",
        "    X_test = vectorizer.transform(test_df['text'])\n",
        "    X_valid = vectorizer.transform(valid_df['text'])\n",
        "    return X_train, X_test, X_valid, vectorizer\n",
        "\n",
        "# Step 3: Model Training\n",
        "def train_model(X_train, y_train):\n",
        "    model = LogisticRegression(max_iter=1000)\n",
        "    model.fit(X_train, y_train)\n",
        "    return model\n",
        "\n",
        "# Step 4: Save Artifacts\n",
        "def save_artifacts(vectorizer, X_train, X_test, X_valid, y_train, y_test, y_valid, model):\n",
        "    with open('vectorizer.pkl', 'wb') as f:\n",
        "        pickle.dump(vectorizer, f)\n",
        "    pd.to_pickle(X_train, 'X_train.pkl')\n",
        "    pd.to_pickle(X_test, 'X_test.pkl')\n",
        "    pd.to_pickle(X_valid, 'X_valid.pkl')\n",
        "    y_train.to_pickle('y_train.pkl')\n",
        "    y_test.to_pickle('y_test.pkl')\n",
        "    y_valid.to_pickle('y_valid.pkl')\n",
        "    with open('final_model.sav', 'wb') as model_file:\n",
        "        pickle.dump(model, model_file)\n",
        "\n",
        "# Step 5: Evaluation\n",
        "def evaluate_model(model, X_test, y_test):\n",
        "    y_pred = model.predict(X_test)\n",
        "    accuracy = accuracy_score(y_test, y_pred)\n",
        "    print(f'Accuracy: {accuracy}')\n",
        "\n",
        "# Step 6: Making Predictions\n",
        "def load_model_and_predict(model_path, vectorizer, new_data):\n",
        "    with open(model_path, 'rb') as model_file:\n",
        "        model = pickle.load(model_file)\n",
        "    new_data_transformed = vectorizer.transform(new_data)\n",
        "    predictions = model.predict(new_data_transformed)\n",
        "    return predictions\n",
        "\n",
        "# Main function to run the entire pipeline\n",
        "def main():\n",
        "    # Step 1: Load and preprocess data\n",
        "    train_data = pd.read_csv('/content/drive/MyDrive/train.csv')\n",
        "    test_data = pd.read_csv('/content/drive/MyDrive/test.csv')\n",
        "    val_data = pd.read_csv('/content/drive/MyDrive/valid.csv')\n",
        "\n",
        "    train_df = preprocess_data(train_data)\n",
        "    test_df = preprocess_data(test_data)\n",
        "    valid_df = preprocess_data(val_data)\n",
        "\n",
        "    # Step 2: Feature Extraction\n",
        "    X_train, X_test, X_valid, vectorizer = extract_features(train_df, test_df, valid_df)\n",
        "    y_train = train_df['label']\n",
        "    y_test = test_df['label']\n",
        "    y_valid = valid_df['label']\n",
        "\n",
        "    # Step 3: Model Training\n",
        "    model = train_model(X_train, y_train)\n",
        "\n",
        "    # Step 4: Save artifacts\n",
        "    save_artifacts(vectorizer, X_train, X_test, X_valid, y_train, y_test, y_valid, model)\n",
        "\n",
        "    # Step 5: Evaluation\n",
        "    evaluate_model(model, X_test, y_test)\n",
        "\n",
        "    # Step 6: Making Predictions\n",
        "    predictions = load_model_and_predict('final_model.sav', vectorizer, valid_df['text'])\n",
        "    print(f'Predictions: {predictions[:10]}')\n",
        "    print(f'Actual: {y_valid.head(10).values}')\n",
        "\n",
        "if __name__ == \"__main__\":\n",
        "    main()"
      ],
      "metadata": {
        "colab": {
          "base_uri": "https://localhost:8080/"
        },
        "id": "MxHNAbzn5IjG",
        "outputId": "95502f5e-1b22-4afe-950d-8e86c29a2c2b"
      },
      "execution_count": 4,
      "outputs": [
        {
          "output_type": "stream",
          "name": "stdout",
          "text": [
            "Accuracy: 0.6029008232065857\n",
            "Predictions: [1 0 0 1 0 1 1 1 1 0]\n",
            "Actual: [0. 0. 0. 1. 1. 0. 1. 0. 1. 1.]\n"
          ]
        }
      ]
    }
  ],
  "metadata": {
    "kernelspec": {
      "display_name": "Python 3",
      "language": "python",
      "name": "python3"
    },
    "language_info": {
      "codemirror_mode": {
        "name": "ipython",
        "version": 3
      },
      "file_extension": ".py",
      "mimetype": "text/x-python",
      "name": "python",
      "nbconvert_exporter": "python",
      "pygments_lexer": "ipython3",
      "version": "3.11.1"
    },
    "colab": {
      "provenance": [],
      "include_colab_link": true
    }
  },
  "nbformat": 4,
  "nbformat_minor": 0
}